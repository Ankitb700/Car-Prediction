{
  "cells": [
    {
      "cell_type": "markdown",
      "metadata": {
        "id": "xTH90LlkTaKT"
      },
      "source": [
        "Importing the required packages"
      ]
    },
    {
      "cell_type": "code",
      "execution_count": 42,
      "metadata": {
        "id": "tPVPSn5GRRfB"
      },
      "outputs": [],
      "source": [
        "import pandas as pd\n",
        "import numpy as np\n",
        "import matplotlib.pyplot as plt\n",
        "import seaborn as sns"
      ]
    },
    {
      "cell_type": "markdown",
      "metadata": {
        "id": "-8yhI8JqTgUI"
      },
      "source": [
        "Redaing the data"
      ]
    },
    {
      "cell_type": "code",
      "execution_count": 43,
      "metadata": {
        "id": "_wxcji_dRq2t"
      },
      "outputs": [],
      "source": [
        "df = pd.read_csv(\"merged_car_data.csv\")"
      ]
    },
    {
      "cell_type": "code",
      "execution_count": 44,
      "metadata": {
        "colab": {
          "base_uri": "https://localhost:8080/"
        },
        "id": "1ts0Bqu0TjTn",
        "outputId": "26e4bc56-0d9d-4ee2-b3a6-7287545e1f1a"
      },
      "outputs": [
        {
          "data": {
            "text/plain": [
              "(539126, 8)"
            ]
          },
          "execution_count": 44,
          "metadata": {},
          "output_type": "execute_result"
        }
      ],
      "source": [
        "df.shape"
      ]
    },
    {
      "cell_type": "code",
      "execution_count": 45,
      "metadata": {
        "colab": {
          "base_uri": "https://localhost:8080/",
          "height": 206
        },
        "id": "ZqP6oDlMTkvu",
        "outputId": "abaa7595-a303-458e-f4b3-a609cff47eda"
      },
      "outputs": [
        {
          "data": {
            "text/html": [
              "<div>\n",
              "<style scoped>\n",
              "    .dataframe tbody tr th:only-of-type {\n",
              "        vertical-align: middle;\n",
              "    }\n",
              "\n",
              "    .dataframe tbody tr th {\n",
              "        vertical-align: top;\n",
              "    }\n",
              "\n",
              "    .dataframe thead th {\n",
              "        text-align: right;\n",
              "    }\n",
              "</style>\n",
              "<table border=\"1\" class=\"dataframe\">\n",
              "  <thead>\n",
              "    <tr style=\"text-align: right;\">\n",
              "      <th></th>\n",
              "      <th>Price</th>\n",
              "      <th>Year</th>\n",
              "      <th>Mileage</th>\n",
              "      <th>City</th>\n",
              "      <th>State</th>\n",
              "      <th>Vin</th>\n",
              "      <th>Make</th>\n",
              "      <th>Model</th>\n",
              "    </tr>\n",
              "  </thead>\n",
              "  <tbody>\n",
              "    <tr>\n",
              "      <th>0</th>\n",
              "      <td>15777</td>\n",
              "      <td>2015</td>\n",
              "      <td>25195</td>\n",
              "      <td>New Orleans</td>\n",
              "      <td>LA</td>\n",
              "      <td>KL4CJASB4FB217542</td>\n",
              "      <td>Buick</td>\n",
              "      <td>EncoreFWD</td>\n",
              "    </tr>\n",
              "    <tr>\n",
              "      <th>1</th>\n",
              "      <td>16895</td>\n",
              "      <td>2015</td>\n",
              "      <td>21026</td>\n",
              "      <td>Souderton</td>\n",
              "      <td>PA</td>\n",
              "      <td>KL4CJASB9FB190502</td>\n",
              "      <td>Buick</td>\n",
              "      <td>EncoreFWD</td>\n",
              "    </tr>\n",
              "    <tr>\n",
              "      <th>2</th>\n",
              "      <td>15995</td>\n",
              "      <td>2015</td>\n",
              "      <td>20496</td>\n",
              "      <td>McDonough</td>\n",
              "      <td>GA</td>\n",
              "      <td>KL4CJBSB2FB101567</td>\n",
              "      <td>Buick</td>\n",
              "      <td>EncoreConvenience</td>\n",
              "    </tr>\n",
              "    <tr>\n",
              "      <th>3</th>\n",
              "      <td>17991</td>\n",
              "      <td>2016</td>\n",
              "      <td>14806</td>\n",
              "      <td>Tucson</td>\n",
              "      <td>AZ</td>\n",
              "      <td>KL4CJASB7GB620898</td>\n",
              "      <td>Buick</td>\n",
              "      <td>EncoreFWD</td>\n",
              "    </tr>\n",
              "    <tr>\n",
              "      <th>4</th>\n",
              "      <td>3950</td>\n",
              "      <td>2003</td>\n",
              "      <td>176935</td>\n",
              "      <td>Elkhart</td>\n",
              "      <td>IN</td>\n",
              "      <td>3G5DA03E93S607122</td>\n",
              "      <td>Buick</td>\n",
              "      <td>RendezvousCXL</td>\n",
              "    </tr>\n",
              "  </tbody>\n",
              "</table>\n",
              "</div>"
            ],
            "text/plain": [
              "   Price  Year  Mileage         City State                Vin   Make  \\\n",
              "0  15777  2015    25195  New Orleans    LA  KL4CJASB4FB217542  Buick   \n",
              "1  16895  2015    21026    Souderton    PA  KL4CJASB9FB190502  Buick   \n",
              "2  15995  2015    20496    McDonough    GA  KL4CJBSB2FB101567  Buick   \n",
              "3  17991  2016    14806       Tucson    AZ  KL4CJASB7GB620898  Buick   \n",
              "4   3950  2003   176935      Elkhart    IN  3G5DA03E93S607122  Buick   \n",
              "\n",
              "               Model  \n",
              "0          EncoreFWD  \n",
              "1          EncoreFWD  \n",
              "2  EncoreConvenience  \n",
              "3          EncoreFWD  \n",
              "4      RendezvousCXL  "
            ]
          },
          "execution_count": 45,
          "metadata": {},
          "output_type": "execute_result"
        }
      ],
      "source": [
        "df.head()"
      ]
    },
    {
      "cell_type": "code",
      "execution_count": 46,
      "metadata": {
        "id": "j_RrZ9vs7PZc"
      },
      "outputs": [],
      "source": [
        "#creating a sample dataframe \n",
        "sample_df = df.sample(n=539126, random_state=42)"
      ]
    },
    {
      "cell_type": "code",
      "execution_count": 47,
      "metadata": {
        "colab": {
          "base_uri": "https://localhost:8080/"
        },
        "id": "IgEIyhYAEPnA",
        "outputId": "56ec50ba-8ab0-4064-e23f-8efa959f5375"
      },
      "outputs": [
        {
          "data": {
            "text/plain": [
              "Index(['Price', 'Year', 'Mileage', 'City', 'State', 'Vin', 'Make', 'Model'], dtype='object')"
            ]
          },
          "execution_count": 47,
          "metadata": {},
          "output_type": "execute_result"
        }
      ],
      "source": [
        "sample_df.columns"
      ]
    },
    {
      "cell_type": "markdown",
      "metadata": {
        "id": "rkcnBKLhTlaI"
      },
      "source": [
        "Dropping all the columns that are not required for the modeling"
      ]
    },
    {
      "cell_type": "code",
      "execution_count": 48,
      "metadata": {
        "id": "BLDqnPJl7Q8H"
      },
      "outputs": [],
      "source": [
        "sample_df.drop(columns=['City','State','Vin','Make'],inplace=True)"
      ]
    },
    {
      "cell_type": "code",
      "execution_count": 49,
      "metadata": {
        "id": "e6gaGCBz7Riy"
      },
      "outputs": [],
      "source": [
        "counts = df['Model'].value_counts()\n",
        "df['Model'].nunique()\n",
        "thersold = 2000\n",
        "repl = counts[counts >= thersold].index"
      ]
    },
    {
      "cell_type": "code",
      "execution_count": 50,
      "metadata": {
        "colab": {
          "base_uri": "https://localhost:8080/"
        },
        "id": "T0EOQfT07d9z",
        "outputId": "44bbf9f8-da79-4e39-f316-acb0e5fe27a7"
      },
      "outputs": [
        {
          "data": {
            "text/plain": [
              "37"
            ]
          },
          "execution_count": 50,
          "metadata": {},
          "output_type": "execute_result"
        }
      ],
      "source": [
        "repl.nunique()   #2579"
      ]
    },
    {
      "cell_type": "code",
      "execution_count": 51,
      "metadata": {
        "colab": {
          "base_uri": "https://localhost:8080/"
        },
        "id": "qmhKS9X17f4p",
        "outputId": "1ebb6c94-4a5b-4502-df8c-84152da95685"
      },
      "outputs": [
        {
          "data": {
            "text/plain": [
              "2579"
            ]
          },
          "execution_count": 51,
          "metadata": {},
          "output_type": "execute_result"
        }
      ],
      "source": [
        "sample_df['Model'].nunique()"
      ]
    },
    {
      "cell_type": "markdown",
      "metadata": {
        "id": "cqihElzATsoZ"
      },
      "source": [
        "Creating a sample_df where all the car models that have sold car's more than 200 are only included"
      ]
    },
    {
      "cell_type": "code",
      "execution_count": 52,
      "metadata": {
        "colab": {
          "base_uri": "https://localhost:8080/"
        },
        "id": "tnJ6ASHJ7gPq",
        "outputId": "7ce3915b-03bb-44c2-9e45-1bbd6cea84e7"
      },
      "outputs": [
        {
          "name": "stdout",
          "output_type": "stream",
          "text": [
            "        Price  Year  Mileage      Model\n",
            "269951  10505  2016    30186    VersaSV\n",
            "434509  20995  2014    35541       Town\n",
            "99784    4500  2000   241515  Silverado\n",
            "208721  16423  2011   120142      Grand\n",
            "239306  38900  2015    14003         IS\n"
          ]
        }
      ],
      "source": [
        "# get the value_counts of the 'car_model' column\n",
        "car_counts = sample_df['Model'].value_counts()\n",
        "\n",
        "# create a list of car models to keep (those with value_counts > 100)\n",
        "keep_cars = car_counts[car_counts > 200].index.tolist()\n",
        "\n",
        "# replace the names of the car models not in keep_cars with 'unknown'\n",
        "sample_df['Model'] = sample_df['Model'].apply(lambda x: x if x in keep_cars else 'unknown')\n",
        "\n",
        "# display the final dataframe\n",
        "print(sample_df.sample(5))"
      ]
    },
    {
      "cell_type": "markdown",
      "metadata": {
        "id": "lk8P59QwT6uq"
      },
      "source": [
        "We got a total of 544 car's model that have sold car more than 200 in the us"
      ]
    },
    {
      "cell_type": "code",
      "execution_count": 53,
      "metadata": {
        "colab": {
          "base_uri": "https://localhost:8080/"
        },
        "id": "7iLdMg9U7ghr",
        "outputId": "b4c2cc86-6d4a-4be1-aed2-25b2eee87536"
      },
      "outputs": [
        {
          "data": {
            "text/plain": [
              "544"
            ]
          },
          "execution_count": 53,
          "metadata": {},
          "output_type": "execute_result"
        }
      ],
      "source": [
        "sample_df['Model'].nunique()"
      ]
    },
    {
      "cell_type": "markdown",
      "metadata": {
        "id": "QZXBJdhmUFfb"
      },
      "source": [
        "Creating the train_set and test_set"
      ]
    },
    {
      "cell_type": "code",
      "execution_count": 54,
      "metadata": {
        "id": "RxfWJzJn7nEZ"
      },
      "outputs": [],
      "source": [
        "from sklearn.model_selection import train_test_split\n",
        "x = sample_df[['Year','Mileage','Model']]\n",
        "y = sample_df['Price']\n",
        "x_train,x_test,y_train,y_test = train_test_split(x,y,test_size=0.2,random_state=42)"
      ]
    },
    {
      "cell_type": "markdown",
      "metadata": {
        "id": "Co8h8j0NUmjN"
      },
      "source": [
        "Changing the categorical fetures into numerical values using pandas get dummies"
      ]
    },
    {
      "cell_type": "code",
      "execution_count": 55,
      "metadata": {
        "id": "_FcfP6fU7nN-"
      },
      "outputs": [],
      "source": [
        "encoded_df = pd.get_dummies(sample_df[['Model']])"
      ]
    },
    {
      "cell_type": "code",
      "execution_count": 56,
      "metadata": {
        "colab": {
          "base_uri": "https://localhost:8080/"
        },
        "id": "Q0CaCMrm7nSQ",
        "outputId": "644db442-268e-47b1-c486-a3ffefbb1c58"
      },
      "outputs": [
        {
          "data": {
            "text/plain": [
              "(539126, 544)"
            ]
          },
          "execution_count": 56,
          "metadata": {},
          "output_type": "execute_result"
        }
      ],
      "source": [
        "encoded_df.shape"
      ]
    },
    {
      "cell_type": "code",
      "execution_count": 57,
      "metadata": {
        "id": "jTy05CzA7nYr"
      },
      "outputs": [],
      "source": [
        "merged_df = pd.concat([sample_df,encoded_df],axis=1)"
      ]
    },
    {
      "cell_type": "code",
      "execution_count": 58,
      "metadata": {
        "colab": {
          "base_uri": "https://localhost:8080/",
          "height": 491
        },
        "id": "pYoZvLFc7wAe",
        "outputId": "32255e6a-6119-4135-91b0-bed699c1abc6"
      },
      "outputs": [
        {
          "data": {
            "text/html": [
              "<div>\n",
              "<style scoped>\n",
              "    .dataframe tbody tr th:only-of-type {\n",
              "        vertical-align: middle;\n",
              "    }\n",
              "\n",
              "    .dataframe tbody tr th {\n",
              "        vertical-align: top;\n",
              "    }\n",
              "\n",
              "    .dataframe thead th {\n",
              "        text-align: right;\n",
              "    }\n",
              "</style>\n",
              "<table border=\"1\" class=\"dataframe\">\n",
              "  <thead>\n",
              "    <tr style=\"text-align: right;\">\n",
              "      <th></th>\n",
              "      <th>Price</th>\n",
              "      <th>Year</th>\n",
              "      <th>Mileage</th>\n",
              "      <th>Model</th>\n",
              "      <th>Model_1</th>\n",
              "      <th>Model_15002WD</th>\n",
              "      <th>Model_15004WD</th>\n",
              "      <th>Model_1500Big</th>\n",
              "      <th>Model_1500Laramie</th>\n",
              "      <th>Model_1500Lone</th>\n",
              "      <th>...</th>\n",
              "      <th>Model_Yaris5-Door</th>\n",
              "      <th>Model_Yukon</th>\n",
              "      <th>Model_Yukon2WD</th>\n",
              "      <th>Model_Yukon4WD</th>\n",
              "      <th>Model_YukonAWD</th>\n",
              "      <th>Model_i3Hatchback</th>\n",
              "      <th>Model_tC2dr</th>\n",
              "      <th>Model_tCAutomatic</th>\n",
              "      <th>Model_unknown</th>\n",
              "      <th>Model_xB5dr</th>\n",
              "    </tr>\n",
              "  </thead>\n",
              "  <tbody>\n",
              "    <tr>\n",
              "      <th>508375</th>\n",
              "      <td>9716</td>\n",
              "      <td>2010</td>\n",
              "      <td>121593</td>\n",
              "      <td>Maxima4dr</td>\n",
              "      <td>0</td>\n",
              "      <td>0</td>\n",
              "      <td>0</td>\n",
              "      <td>0</td>\n",
              "      <td>0</td>\n",
              "      <td>0</td>\n",
              "      <td>...</td>\n",
              "      <td>0</td>\n",
              "      <td>0</td>\n",
              "      <td>0</td>\n",
              "      <td>0</td>\n",
              "      <td>0</td>\n",
              "      <td>0</td>\n",
              "      <td>0</td>\n",
              "      <td>0</td>\n",
              "      <td>0</td>\n",
              "      <td>0</td>\n",
              "    </tr>\n",
              "    <tr>\n",
              "      <th>503559</th>\n",
              "      <td>17865</td>\n",
              "      <td>2014</td>\n",
              "      <td>45336</td>\n",
              "      <td>Outlander</td>\n",
              "      <td>0</td>\n",
              "      <td>0</td>\n",
              "      <td>0</td>\n",
              "      <td>0</td>\n",
              "      <td>0</td>\n",
              "      <td>0</td>\n",
              "      <td>...</td>\n",
              "      <td>0</td>\n",
              "      <td>0</td>\n",
              "      <td>0</td>\n",
              "      <td>0</td>\n",
              "      <td>0</td>\n",
              "      <td>0</td>\n",
              "      <td>0</td>\n",
              "      <td>0</td>\n",
              "      <td>0</td>\n",
              "      <td>0</td>\n",
              "    </tr>\n",
              "    <tr>\n",
              "      <th>395283</th>\n",
              "      <td>26212</td>\n",
              "      <td>2015</td>\n",
              "      <td>37066</td>\n",
              "      <td>Genesis3.8L</td>\n",
              "      <td>0</td>\n",
              "      <td>0</td>\n",
              "      <td>0</td>\n",
              "      <td>0</td>\n",
              "      <td>0</td>\n",
              "      <td>0</td>\n",
              "      <td>...</td>\n",
              "      <td>0</td>\n",
              "      <td>0</td>\n",
              "      <td>0</td>\n",
              "      <td>0</td>\n",
              "      <td>0</td>\n",
              "      <td>0</td>\n",
              "      <td>0</td>\n",
              "      <td>0</td>\n",
              "      <td>0</td>\n",
              "      <td>0</td>\n",
              "    </tr>\n",
              "    <tr>\n",
              "      <th>31809</th>\n",
              "      <td>15999</td>\n",
              "      <td>2011</td>\n",
              "      <td>97167</td>\n",
              "      <td>Edge4dr</td>\n",
              "      <td>0</td>\n",
              "      <td>0</td>\n",
              "      <td>0</td>\n",
              "      <td>0</td>\n",
              "      <td>0</td>\n",
              "      <td>0</td>\n",
              "      <td>...</td>\n",
              "      <td>0</td>\n",
              "      <td>0</td>\n",
              "      <td>0</td>\n",
              "      <td>0</td>\n",
              "      <td>0</td>\n",
              "      <td>0</td>\n",
              "      <td>0</td>\n",
              "      <td>0</td>\n",
              "      <td>0</td>\n",
              "      <td>0</td>\n",
              "    </tr>\n",
              "    <tr>\n",
              "      <th>522608</th>\n",
              "      <td>21899</td>\n",
              "      <td>2016</td>\n",
              "      <td>7169</td>\n",
              "      <td>Forester2.5i</td>\n",
              "      <td>0</td>\n",
              "      <td>0</td>\n",
              "      <td>0</td>\n",
              "      <td>0</td>\n",
              "      <td>0</td>\n",
              "      <td>0</td>\n",
              "      <td>...</td>\n",
              "      <td>0</td>\n",
              "      <td>0</td>\n",
              "      <td>0</td>\n",
              "      <td>0</td>\n",
              "      <td>0</td>\n",
              "      <td>0</td>\n",
              "      <td>0</td>\n",
              "      <td>0</td>\n",
              "      <td>0</td>\n",
              "      <td>0</td>\n",
              "    </tr>\n",
              "    <tr>\n",
              "      <th>216528</th>\n",
              "      <td>29000</td>\n",
              "      <td>2013</td>\n",
              "      <td>43397</td>\n",
              "      <td>Wrangler</td>\n",
              "      <td>0</td>\n",
              "      <td>0</td>\n",
              "      <td>0</td>\n",
              "      <td>0</td>\n",
              "      <td>0</td>\n",
              "      <td>0</td>\n",
              "      <td>...</td>\n",
              "      <td>0</td>\n",
              "      <td>0</td>\n",
              "      <td>0</td>\n",
              "      <td>0</td>\n",
              "      <td>0</td>\n",
              "      <td>0</td>\n",
              "      <td>0</td>\n",
              "      <td>0</td>\n",
              "      <td>0</td>\n",
              "      <td>0</td>\n",
              "    </tr>\n",
              "    <tr>\n",
              "      <th>527557</th>\n",
              "      <td>13195</td>\n",
              "      <td>2014</td>\n",
              "      <td>90683</td>\n",
              "      <td>CamryL</td>\n",
              "      <td>0</td>\n",
              "      <td>0</td>\n",
              "      <td>0</td>\n",
              "      <td>0</td>\n",
              "      <td>0</td>\n",
              "      <td>0</td>\n",
              "      <td>...</td>\n",
              "      <td>0</td>\n",
              "      <td>0</td>\n",
              "      <td>0</td>\n",
              "      <td>0</td>\n",
              "      <td>0</td>\n",
              "      <td>0</td>\n",
              "      <td>0</td>\n",
              "      <td>0</td>\n",
              "      <td>0</td>\n",
              "      <td>0</td>\n",
              "    </tr>\n",
              "    <tr>\n",
              "      <th>519158</th>\n",
              "      <td>30991</td>\n",
              "      <td>2016</td>\n",
              "      <td>2114</td>\n",
              "      <td>1500Lone</td>\n",
              "      <td>0</td>\n",
              "      <td>0</td>\n",
              "      <td>0</td>\n",
              "      <td>0</td>\n",
              "      <td>0</td>\n",
              "      <td>1</td>\n",
              "      <td>...</td>\n",
              "      <td>0</td>\n",
              "      <td>0</td>\n",
              "      <td>0</td>\n",
              "      <td>0</td>\n",
              "      <td>0</td>\n",
              "      <td>0</td>\n",
              "      <td>0</td>\n",
              "      <td>0</td>\n",
              "      <td>0</td>\n",
              "      <td>0</td>\n",
              "    </tr>\n",
              "    <tr>\n",
              "      <th>119407</th>\n",
              "      <td>12000</td>\n",
              "      <td>2013</td>\n",
              "      <td>61401</td>\n",
              "      <td>unknown</td>\n",
              "      <td>0</td>\n",
              "      <td>0</td>\n",
              "      <td>0</td>\n",
              "      <td>0</td>\n",
              "      <td>0</td>\n",
              "      <td>0</td>\n",
              "      <td>...</td>\n",
              "      <td>0</td>\n",
              "      <td>0</td>\n",
              "      <td>0</td>\n",
              "      <td>0</td>\n",
              "      <td>0</td>\n",
              "      <td>0</td>\n",
              "      <td>0</td>\n",
              "      <td>0</td>\n",
              "      <td>1</td>\n",
              "      <td>0</td>\n",
              "    </tr>\n",
              "    <tr>\n",
              "      <th>444120</th>\n",
              "      <td>11888</td>\n",
              "      <td>2014</td>\n",
              "      <td>69279</td>\n",
              "      <td>FusionSE</td>\n",
              "      <td>0</td>\n",
              "      <td>0</td>\n",
              "      <td>0</td>\n",
              "      <td>0</td>\n",
              "      <td>0</td>\n",
              "      <td>0</td>\n",
              "      <td>...</td>\n",
              "      <td>0</td>\n",
              "      <td>0</td>\n",
              "      <td>0</td>\n",
              "      <td>0</td>\n",
              "      <td>0</td>\n",
              "      <td>0</td>\n",
              "      <td>0</td>\n",
              "      <td>0</td>\n",
              "      <td>0</td>\n",
              "      <td>0</td>\n",
              "    </tr>\n",
              "  </tbody>\n",
              "</table>\n",
              "<p>10 rows × 548 columns</p>\n",
              "</div>"
            ],
            "text/plain": [
              "        Price  Year  Mileage         Model  Model_1  Model_15002WD  \\\n",
              "508375   9716  2010   121593     Maxima4dr        0              0   \n",
              "503559  17865  2014    45336     Outlander        0              0   \n",
              "395283  26212  2015    37066   Genesis3.8L        0              0   \n",
              "31809   15999  2011    97167       Edge4dr        0              0   \n",
              "522608  21899  2016     7169  Forester2.5i        0              0   \n",
              "216528  29000  2013    43397      Wrangler        0              0   \n",
              "527557  13195  2014    90683        CamryL        0              0   \n",
              "519158  30991  2016     2114      1500Lone        0              0   \n",
              "119407  12000  2013    61401       unknown        0              0   \n",
              "444120  11888  2014    69279      FusionSE        0              0   \n",
              "\n",
              "        Model_15004WD  Model_1500Big  Model_1500Laramie  Model_1500Lone  ...  \\\n",
              "508375              0              0                  0               0  ...   \n",
              "503559              0              0                  0               0  ...   \n",
              "395283              0              0                  0               0  ...   \n",
              "31809               0              0                  0               0  ...   \n",
              "522608              0              0                  0               0  ...   \n",
              "216528              0              0                  0               0  ...   \n",
              "527557              0              0                  0               0  ...   \n",
              "519158              0              0                  0               1  ...   \n",
              "119407              0              0                  0               0  ...   \n",
              "444120              0              0                  0               0  ...   \n",
              "\n",
              "        Model_Yaris5-Door  Model_Yukon  Model_Yukon2WD  Model_Yukon4WD  \\\n",
              "508375                  0            0               0               0   \n",
              "503559                  0            0               0               0   \n",
              "395283                  0            0               0               0   \n",
              "31809                   0            0               0               0   \n",
              "522608                  0            0               0               0   \n",
              "216528                  0            0               0               0   \n",
              "527557                  0            0               0               0   \n",
              "519158                  0            0               0               0   \n",
              "119407                  0            0               0               0   \n",
              "444120                  0            0               0               0   \n",
              "\n",
              "        Model_YukonAWD  Model_i3Hatchback  Model_tC2dr  Model_tCAutomatic  \\\n",
              "508375               0                  0            0                  0   \n",
              "503559               0                  0            0                  0   \n",
              "395283               0                  0            0                  0   \n",
              "31809                0                  0            0                  0   \n",
              "522608               0                  0            0                  0   \n",
              "216528               0                  0            0                  0   \n",
              "527557               0                  0            0                  0   \n",
              "519158               0                  0            0                  0   \n",
              "119407               0                  0            0                  0   \n",
              "444120               0                  0            0                  0   \n",
              "\n",
              "        Model_unknown  Model_xB5dr  \n",
              "508375              0            0  \n",
              "503559              0            0  \n",
              "395283              0            0  \n",
              "31809               0            0  \n",
              "522608              0            0  \n",
              "216528              0            0  \n",
              "527557              0            0  \n",
              "519158              0            0  \n",
              "119407              1            0  \n",
              "444120              0            0  \n",
              "\n",
              "[10 rows x 548 columns]"
            ]
          },
          "execution_count": 58,
          "metadata": {},
          "output_type": "execute_result"
        }
      ],
      "source": [
        "merged_df.sample(10)"
      ]
    },
    {
      "cell_type": "code",
      "execution_count": 59,
      "metadata": {
        "id": "mlHGPYwo7wF-"
      },
      "outputs": [],
      "source": [
        "merged_df.drop(columns=['Model'],inplace=True)"
      ]
    },
    {
      "cell_type": "code",
      "execution_count": 60,
      "metadata": {
        "colab": {
          "base_uri": "https://localhost:8080/"
        },
        "id": "miNLUdd97wKh",
        "outputId": "af1c958d-4a9a-45bb-ad1d-999f40fe6e32"
      },
      "outputs": [
        {
          "data": {
            "text/plain": [
              "Price                35982\n",
              "Year                  2015\n",
              "Mileage              35625\n",
              "Model_1                  0\n",
              "Model_15002WD            0\n",
              "                     ...  \n",
              "Model_i3Hatchback        0\n",
              "Model_tC2dr              0\n",
              "Model_tCAutomatic        0\n",
              "Model_unknown            0\n",
              "Model_xB5dr              0\n",
              "Name: 28286, Length: 547, dtype: int64"
            ]
          },
          "execution_count": 60,
          "metadata": {},
          "output_type": "execute_result"
        }
      ],
      "source": [
        "merged_df.iloc[1,:]"
      ]
    },
    {
      "cell_type": "code",
      "execution_count": 61,
      "metadata": {
        "id": "-YNWeOGM7nbX"
      },
      "outputs": [],
      "source": [
        "x = merged_df.drop(columns=['Price'])\n",
        "y = merged_df['Price']"
      ]
    },
    {
      "cell_type": "code",
      "execution_count": 22,
      "metadata": {
        "id": "b6QNeCYF7nfu"
      },
      "outputs": [],
      "source": [
        "from sklearn.model_selection import train_test_split\n",
        "x_train,x_test,y_train,y_test = train_test_split(x,y,test_size=0.2,random_state=42)"
      ]
    },
    {
      "cell_type": "code",
      "execution_count": 23,
      "metadata": {
        "colab": {
          "base_uri": "https://localhost:8080/",
          "height": 505
        },
        "id": "mpBKvrgr7g5D",
        "outputId": "85fc8836-71d5-4711-9b01-c831893b4d49"
      },
      "outputs": [
        {
          "data": {
            "text/html": [
              "<div>\n",
              "<style scoped>\n",
              "    .dataframe tbody tr th:only-of-type {\n",
              "        vertical-align: middle;\n",
              "    }\n",
              "\n",
              "    .dataframe tbody tr th {\n",
              "        vertical-align: top;\n",
              "    }\n",
              "\n",
              "    .dataframe thead th {\n",
              "        text-align: right;\n",
              "    }\n",
              "</style>\n",
              "<table border=\"1\" class=\"dataframe\">\n",
              "  <thead>\n",
              "    <tr style=\"text-align: right;\">\n",
              "      <th></th>\n",
              "      <th>Year</th>\n",
              "      <th>Mileage</th>\n",
              "      <th>Model_1</th>\n",
              "      <th>Model_15002WD</th>\n",
              "      <th>Model_15004WD</th>\n",
              "      <th>Model_1500Big</th>\n",
              "      <th>Model_1500Laramie</th>\n",
              "      <th>Model_1500Lone</th>\n",
              "      <th>Model_1500SLT</th>\n",
              "      <th>Model_2</th>\n",
              "      <th>...</th>\n",
              "      <th>Model_Yaris5-Door</th>\n",
              "      <th>Model_Yukon</th>\n",
              "      <th>Model_Yukon2WD</th>\n",
              "      <th>Model_Yukon4WD</th>\n",
              "      <th>Model_YukonAWD</th>\n",
              "      <th>Model_i3Hatchback</th>\n",
              "      <th>Model_tC2dr</th>\n",
              "      <th>Model_tCAutomatic</th>\n",
              "      <th>Model_unknown</th>\n",
              "      <th>Model_xB5dr</th>\n",
              "    </tr>\n",
              "  </thead>\n",
              "  <tbody>\n",
              "    <tr>\n",
              "      <th>518107</th>\n",
              "      <td>2014</td>\n",
              "      <td>50466</td>\n",
              "      <td>0</td>\n",
              "      <td>0</td>\n",
              "      <td>0</td>\n",
              "      <td>0</td>\n",
              "      <td>0</td>\n",
              "      <td>0</td>\n",
              "      <td>0</td>\n",
              "      <td>0</td>\n",
              "      <td>...</td>\n",
              "      <td>0</td>\n",
              "      <td>0</td>\n",
              "      <td>0</td>\n",
              "      <td>0</td>\n",
              "      <td>0</td>\n",
              "      <td>0</td>\n",
              "      <td>0</td>\n",
              "      <td>0</td>\n",
              "      <td>1</td>\n",
              "      <td>0</td>\n",
              "    </tr>\n",
              "    <tr>\n",
              "      <th>273195</th>\n",
              "      <td>2015</td>\n",
              "      <td>32000</td>\n",
              "      <td>0</td>\n",
              "      <td>0</td>\n",
              "      <td>0</td>\n",
              "      <td>0</td>\n",
              "      <td>0</td>\n",
              "      <td>0</td>\n",
              "      <td>0</td>\n",
              "      <td>0</td>\n",
              "      <td>...</td>\n",
              "      <td>0</td>\n",
              "      <td>0</td>\n",
              "      <td>0</td>\n",
              "      <td>0</td>\n",
              "      <td>0</td>\n",
              "      <td>0</td>\n",
              "      <td>0</td>\n",
              "      <td>0</td>\n",
              "      <td>0</td>\n",
              "      <td>0</td>\n",
              "    </tr>\n",
              "    <tr>\n",
              "      <th>375597</th>\n",
              "      <td>2013</td>\n",
              "      <td>96841</td>\n",
              "      <td>0</td>\n",
              "      <td>0</td>\n",
              "      <td>0</td>\n",
              "      <td>0</td>\n",
              "      <td>0</td>\n",
              "      <td>0</td>\n",
              "      <td>0</td>\n",
              "      <td>0</td>\n",
              "      <td>...</td>\n",
              "      <td>0</td>\n",
              "      <td>0</td>\n",
              "      <td>0</td>\n",
              "      <td>0</td>\n",
              "      <td>0</td>\n",
              "      <td>0</td>\n",
              "      <td>0</td>\n",
              "      <td>0</td>\n",
              "      <td>0</td>\n",
              "      <td>0</td>\n",
              "    </tr>\n",
              "    <tr>\n",
              "      <th>364762</th>\n",
              "      <td>2014</td>\n",
              "      <td>21295</td>\n",
              "      <td>0</td>\n",
              "      <td>0</td>\n",
              "      <td>0</td>\n",
              "      <td>0</td>\n",
              "      <td>0</td>\n",
              "      <td>0</td>\n",
              "      <td>0</td>\n",
              "      <td>0</td>\n",
              "      <td>...</td>\n",
              "      <td>0</td>\n",
              "      <td>0</td>\n",
              "      <td>0</td>\n",
              "      <td>0</td>\n",
              "      <td>0</td>\n",
              "      <td>0</td>\n",
              "      <td>0</td>\n",
              "      <td>0</td>\n",
              "      <td>0</td>\n",
              "      <td>0</td>\n",
              "    </tr>\n",
              "    <tr>\n",
              "      <th>394112</th>\n",
              "      <td>2006</td>\n",
              "      <td>72000</td>\n",
              "      <td>0</td>\n",
              "      <td>0</td>\n",
              "      <td>0</td>\n",
              "      <td>0</td>\n",
              "      <td>0</td>\n",
              "      <td>0</td>\n",
              "      <td>0</td>\n",
              "      <td>0</td>\n",
              "      <td>...</td>\n",
              "      <td>0</td>\n",
              "      <td>0</td>\n",
              "      <td>0</td>\n",
              "      <td>0</td>\n",
              "      <td>0</td>\n",
              "      <td>0</td>\n",
              "      <td>0</td>\n",
              "      <td>0</td>\n",
              "      <td>0</td>\n",
              "      <td>0</td>\n",
              "    </tr>\n",
              "    <tr>\n",
              "      <th>...</th>\n",
              "      <td>...</td>\n",
              "      <td>...</td>\n",
              "      <td>...</td>\n",
              "      <td>...</td>\n",
              "      <td>...</td>\n",
              "      <td>...</td>\n",
              "      <td>...</td>\n",
              "      <td>...</td>\n",
              "      <td>...</td>\n",
              "      <td>...</td>\n",
              "      <td>...</td>\n",
              "      <td>...</td>\n",
              "      <td>...</td>\n",
              "      <td>...</td>\n",
              "      <td>...</td>\n",
              "      <td>...</td>\n",
              "      <td>...</td>\n",
              "      <td>...</td>\n",
              "      <td>...</td>\n",
              "      <td>...</td>\n",
              "      <td>...</td>\n",
              "    </tr>\n",
              "    <tr>\n",
              "      <th>244415</th>\n",
              "      <td>2008</td>\n",
              "      <td>25890</td>\n",
              "      <td>0</td>\n",
              "      <td>0</td>\n",
              "      <td>0</td>\n",
              "      <td>0</td>\n",
              "      <td>0</td>\n",
              "      <td>0</td>\n",
              "      <td>0</td>\n",
              "      <td>0</td>\n",
              "      <td>...</td>\n",
              "      <td>0</td>\n",
              "      <td>0</td>\n",
              "      <td>0</td>\n",
              "      <td>0</td>\n",
              "      <td>0</td>\n",
              "      <td>0</td>\n",
              "      <td>0</td>\n",
              "      <td>0</td>\n",
              "      <td>1</td>\n",
              "      <td>0</td>\n",
              "    </tr>\n",
              "    <tr>\n",
              "      <th>358501</th>\n",
              "      <td>2015</td>\n",
              "      <td>27424</td>\n",
              "      <td>0</td>\n",
              "      <td>0</td>\n",
              "      <td>0</td>\n",
              "      <td>0</td>\n",
              "      <td>0</td>\n",
              "      <td>0</td>\n",
              "      <td>0</td>\n",
              "      <td>0</td>\n",
              "      <td>...</td>\n",
              "      <td>0</td>\n",
              "      <td>0</td>\n",
              "      <td>0</td>\n",
              "      <td>0</td>\n",
              "      <td>0</td>\n",
              "      <td>0</td>\n",
              "      <td>0</td>\n",
              "      <td>0</td>\n",
              "      <td>0</td>\n",
              "      <td>0</td>\n",
              "    </tr>\n",
              "    <tr>\n",
              "      <th>437562</th>\n",
              "      <td>2016</td>\n",
              "      <td>15722</td>\n",
              "      <td>0</td>\n",
              "      <td>0</td>\n",
              "      <td>0</td>\n",
              "      <td>0</td>\n",
              "      <td>0</td>\n",
              "      <td>0</td>\n",
              "      <td>0</td>\n",
              "      <td>0</td>\n",
              "      <td>...</td>\n",
              "      <td>0</td>\n",
              "      <td>0</td>\n",
              "      <td>0</td>\n",
              "      <td>0</td>\n",
              "      <td>0</td>\n",
              "      <td>0</td>\n",
              "      <td>0</td>\n",
              "      <td>0</td>\n",
              "      <td>0</td>\n",
              "      <td>0</td>\n",
              "    </tr>\n",
              "    <tr>\n",
              "      <th>26679</th>\n",
              "      <td>2012</td>\n",
              "      <td>103708</td>\n",
              "      <td>0</td>\n",
              "      <td>0</td>\n",
              "      <td>0</td>\n",
              "      <td>0</td>\n",
              "      <td>0</td>\n",
              "      <td>0</td>\n",
              "      <td>0</td>\n",
              "      <td>0</td>\n",
              "      <td>...</td>\n",
              "      <td>0</td>\n",
              "      <td>0</td>\n",
              "      <td>0</td>\n",
              "      <td>0</td>\n",
              "      <td>0</td>\n",
              "      <td>0</td>\n",
              "      <td>0</td>\n",
              "      <td>0</td>\n",
              "      <td>0</td>\n",
              "      <td>0</td>\n",
              "    </tr>\n",
              "    <tr>\n",
              "      <th>21717</th>\n",
              "      <td>2011</td>\n",
              "      <td>70086</td>\n",
              "      <td>0</td>\n",
              "      <td>0</td>\n",
              "      <td>0</td>\n",
              "      <td>0</td>\n",
              "      <td>0</td>\n",
              "      <td>0</td>\n",
              "      <td>0</td>\n",
              "      <td>0</td>\n",
              "      <td>...</td>\n",
              "      <td>0</td>\n",
              "      <td>0</td>\n",
              "      <td>0</td>\n",
              "      <td>0</td>\n",
              "      <td>0</td>\n",
              "      <td>0</td>\n",
              "      <td>0</td>\n",
              "      <td>0</td>\n",
              "      <td>0</td>\n",
              "      <td>0</td>\n",
              "    </tr>\n",
              "  </tbody>\n",
              "</table>\n",
              "<p>107826 rows × 546 columns</p>\n",
              "</div>"
            ],
            "text/plain": [
              "        Year  Mileage  Model_1  Model_15002WD  Model_15004WD  Model_1500Big  \\\n",
              "518107  2014    50466        0              0              0              0   \n",
              "273195  2015    32000        0              0              0              0   \n",
              "375597  2013    96841        0              0              0              0   \n",
              "364762  2014    21295        0              0              0              0   \n",
              "394112  2006    72000        0              0              0              0   \n",
              "...      ...      ...      ...            ...            ...            ...   \n",
              "244415  2008    25890        0              0              0              0   \n",
              "358501  2015    27424        0              0              0              0   \n",
              "437562  2016    15722        0              0              0              0   \n",
              "26679   2012   103708        0              0              0              0   \n",
              "21717   2011    70086        0              0              0              0   \n",
              "\n",
              "        Model_1500Laramie  Model_1500Lone  Model_1500SLT  Model_2  ...  \\\n",
              "518107                  0               0              0        0  ...   \n",
              "273195                  0               0              0        0  ...   \n",
              "375597                  0               0              0        0  ...   \n",
              "364762                  0               0              0        0  ...   \n",
              "394112                  0               0              0        0  ...   \n",
              "...                   ...             ...            ...      ...  ...   \n",
              "244415                  0               0              0        0  ...   \n",
              "358501                  0               0              0        0  ...   \n",
              "437562                  0               0              0        0  ...   \n",
              "26679                   0               0              0        0  ...   \n",
              "21717                   0               0              0        0  ...   \n",
              "\n",
              "        Model_Yaris5-Door  Model_Yukon  Model_Yukon2WD  Model_Yukon4WD  \\\n",
              "518107                  0            0               0               0   \n",
              "273195                  0            0               0               0   \n",
              "375597                  0            0               0               0   \n",
              "364762                  0            0               0               0   \n",
              "394112                  0            0               0               0   \n",
              "...                   ...          ...             ...             ...   \n",
              "244415                  0            0               0               0   \n",
              "358501                  0            0               0               0   \n",
              "437562                  0            0               0               0   \n",
              "26679                   0            0               0               0   \n",
              "21717                   0            0               0               0   \n",
              "\n",
              "        Model_YukonAWD  Model_i3Hatchback  Model_tC2dr  Model_tCAutomatic  \\\n",
              "518107               0                  0            0                  0   \n",
              "273195               0                  0            0                  0   \n",
              "375597               0                  0            0                  0   \n",
              "364762               0                  0            0                  0   \n",
              "394112               0                  0            0                  0   \n",
              "...                ...                ...          ...                ...   \n",
              "244415               0                  0            0                  0   \n",
              "358501               0                  0            0                  0   \n",
              "437562               0                  0            0                  0   \n",
              "26679                0                  0            0                  0   \n",
              "21717                0                  0            0                  0   \n",
              "\n",
              "        Model_unknown  Model_xB5dr  \n",
              "518107              1            0  \n",
              "273195              0            0  \n",
              "375597              0            0  \n",
              "364762              0            0  \n",
              "394112              0            0  \n",
              "...               ...          ...  \n",
              "244415              1            0  \n",
              "358501              0            0  \n",
              "437562              0            0  \n",
              "26679               0            0  \n",
              "21717               0            0  \n",
              "\n",
              "[107826 rows x 546 columns]"
            ]
          },
          "execution_count": 23,
          "metadata": {},
          "output_type": "execute_result"
        }
      ],
      "source": [
        "x_test"
      ]
    },
    {
      "cell_type": "code",
      "execution_count": 24,
      "metadata": {
        "colab": {
          "base_uri": "https://localhost:8080/"
        },
        "id": "xzGpvDRw77mV",
        "outputId": "63a44d88-b4b3-4c41-8e33-dc3c2cf92f8b"
      },
      "outputs": [
        {
          "data": {
            "text/plain": [
              "518107    47988\n",
              "273195    15988\n",
              "375597    19898\n",
              "364762    21242\n",
              "394112     4971\n",
              "          ...  \n",
              "244415    41999\n",
              "358501    27889\n",
              "437562    20999\n",
              "26679     28999\n",
              "21717     45599\n",
              "Name: Price, Length: 107826, dtype: int64"
            ]
          },
          "execution_count": 24,
          "metadata": {},
          "output_type": "execute_result"
        }
      ],
      "source": [
        "y_test"
      ]
    },
    {
      "cell_type": "code",
      "execution_count": 25,
      "metadata": {
        "colab": {
          "base_uri": "https://localhost:8080/"
        },
        "id": "u3EmktIe77rD",
        "outputId": "af383918-952a-4b4b-9484-77335f2996b6"
      },
      "outputs": [
        {
          "data": {
            "text/plain": [
              "((431300, 546), (431300,), (107826, 546), (107826,))"
            ]
          },
          "execution_count": 25,
          "metadata": {},
          "output_type": "execute_result"
        }
      ],
      "source": [
        "x_train.shape,y_train.shape,x_test.shape,y_test.shape"
      ]
    },
    {
      "cell_type": "markdown",
      "metadata": {
        "id": "2i7LPUM2UzMh"
      },
      "source": [
        "Coverting the price and mileage columns and bringing them into same scale by StandardScaler"
      ]
    },
    {
      "cell_type": "code",
      "execution_count": 26,
      "metadata": {
        "id": "qv_3NjoQ77ul"
      },
      "outputs": [],
      "source": [
        "from sklearn.preprocessing import StandardScaler\n",
        "\n",
        "scaler = StandardScaler()\n",
        "\n",
        "# fit the scaler to the train set, it will learn the parameters\n",
        "scaler.fit(x_train)\n",
        "\n",
        "# transform train and test sets\n",
        "X_train_scaled = scaler.transform(x_train)\n",
        "X_test_scaled = scaler.transform(x_test)"
      ]
    },
    {
      "cell_type": "code",
      "execution_count": 27,
      "metadata": {
        "colab": {
          "base_uri": "https://localhost:8080/"
        },
        "id": "pwe4-Jg177yO",
        "outputId": "837e67a3-5f85-4172-beca-175d0041602b"
      },
      "outputs": [
        {
          "data": {
            "text/plain": [
              "array([[ 0.83212881, -1.07206954, -0.02886279, ..., -0.02020483,\n",
              "         2.53225366, -0.02575949],\n",
              "       [ 0.2724687 , -0.59507057, -0.02886279, ..., -0.02020483,\n",
              "        -0.39490515, -0.02575949],\n",
              "       [-0.56702147,  1.44144344, -0.02886279, ..., -0.02020483,\n",
              "         2.53225366, -0.02575949],\n",
              "       ...,\n",
              "       [-0.84685152,  2.24418369, -0.02886279, ..., -0.02020483,\n",
              "        -0.39490515, -0.02575949],\n",
              "       [ 0.83212881, -0.86440282, -0.02886279, ..., -0.02020483,\n",
              "        -0.39490515, -0.02575949],\n",
              "       [ 0.55229876, -0.35503118, -0.02886279, ..., -0.02020483,\n",
              "        -0.39490515, -0.02575949]])"
            ]
          },
          "execution_count": 27,
          "metadata": {},
          "output_type": "execute_result"
        }
      ],
      "source": [
        "X_train_scaled"
      ]
    },
    {
      "cell_type": "code",
      "execution_count": 28,
      "metadata": {
        "id": "dV8qtcYk771c"
      },
      "outputs": [],
      "source": [
        "from sklearn.linear_model import LinearRegression\n",
        "from sklearn.metrics import mean_squared_error,mean_absolute_error,r2_score\n",
        "from sklearn.model_selection import cross_val_score"
      ]
    },
    {
      "cell_type": "markdown",
      "metadata": {
        "id": "NdXzAtL9cBLK"
      },
      "source": [
        "LINEAR REGRESSION MODEL"
      ]
    },
    {
      "cell_type": "code",
      "execution_count": 29,
      "metadata": {
        "colab": {
          "base_uri": "https://localhost:8080/"
        },
        "id": "OuZKoL0s774X",
        "outputId": "819bedeb-39a5-4cc1-9902-1d58561d9255"
      },
      "outputs": [
        {
          "name": "stdout",
          "output_type": "stream",
          "text": [
            "R2: 0.5368712928740347\n",
            "Mae: 4131.940411928735\n",
            "Mse: 86253573.62983131\n",
            "RMSE: 9287.280206273057\n"
          ]
        }
      ],
      "source": [
        "# Create linear regression model\n",
        "lr_model = LinearRegression()\n",
        "\n",
        "# Train model on training set\n",
        "lr_model.fit(X_train_scaled, y_train)\n",
        "\n",
        "# Make predictions on test set\n",
        "y_pred = lr_model.predict(X_test_scaled)\n",
        "\n",
        "# Calculate root mean squared error on test set\n",
        "mse = mean_squared_error(y_test, y_pred)\n",
        "mae = mean_absolute_error(y_test, y_pred)\n",
        "rmse = np.sqrt(mse)\n",
        "r2 = r2_score(y_test, y_pred)\n",
        "print(\"R2:\",r2)\n",
        "print(\"Mae:\",mae)\n",
        "print(\"Mse:\",mse)\n",
        "print(\"RMSE:\", rmse)"
      ]
    },
    {
      "cell_type": "markdown",
      "metadata": {
        "id": "uelbRHpocG4o"
      },
      "source": [
        "RANDOM FOREST REGRESSOR MODEL"
      ]
    },
    {
      "cell_type": "code",
      "execution_count": null,
      "metadata": {
        "colab": {
          "base_uri": "https://localhost:8080/"
        },
        "id": "iPdDlNMR8JHf",
        "outputId": "b482828c-575e-4c8d-dddc-a83360ea19a7"
      },
      "outputs": [
        {
          "name": "stdout",
          "output_type": "stream",
          "text": [
            "R2: 0.2672662832230652\n",
            "MAE: 4609.713614692813\n",
            "MSE: 136465091.92506054\n",
            "MedAE: 2199.0\n"
          ]
        }
      ],
      "source": [
        "from sklearn.ensemble import RandomForestRegressor\n",
        "from sklearn.metrics import r2_score, mean_squared_error, mean_absolute_error, median_absolute_error\n",
        "\n",
        "# Create random forest model\n",
        "rf_model = RandomForestRegressor(n_estimators=1, random_state=42)\n",
        "\n",
        "# Train model on training set\n",
        "rf_model.fit(X_train_scaled, y_train)\n",
        "\n",
        "# Make predictions on test set\n",
        "y_pred = rf_model.predict(X_test_scaled)\n",
        "\n",
        "# Calculate R2, MSE, MAE, and MedAE on test set\n",
        "r2 = r2_score(y_test, y_pred)\n",
        "mse = mean_squared_error(y_test, y_pred)\n",
        "mae = mean_absolute_error(y_test, y_pred)\n",
        "medae = median_absolute_error(y_test, y_pred)\n",
        "\n",
        "print(\"R2:\", r2)\n",
        "print(\"MAE:\", mae)\n",
        "print(\"MSE:\", mse)\n",
        "print(\"MedAE:\", medae)"
      ]
    },
    {
      "cell_type": "code",
      "execution_count": null,
      "metadata": {
        "colab": {
          "base_uri": "https://localhost:8080/"
        },
        "id": "JFsk7KiM8JQd",
        "outputId": "70c82792-53d8-4d13-8efe-9a62c6b1eaef"
      },
      "outputs": [
        {
          "name": "stdout",
          "output_type": "stream",
          "text": [
            "R2: 0.5368609812207965\n",
            "MAE: 4609.713614692813\n",
            "MSE: 86255494.08288924\n"
          ]
        }
      ],
      "source": [
        "from sklearn.linear_model import Ridge\n",
        "\n",
        "# Create ridge regression model\n",
        "ridge_model = Ridge(alpha=1.0)\n",
        "\n",
        "# Train model on training set\n",
        "ridge_model.fit(X_train_scaled, y_train)\n",
        "\n",
        "# Make predictions on test set\n",
        "y_pred = ridge_model.predict(X_test_scaled)\n",
        "\n",
        "# Calculate R2 and MSE on test set\n",
        "r2 = r2_score(y_test, y_pred)\n",
        "mse = mean_squared_error(y_test, y_pred)\n",
        "\n",
        "print(\"R2:\", r2)\n",
        "print(\"MAE:\", mae)\n",
        "print(\"MSE:\", mse)"
      ]
    },
    {
      "cell_type": "markdown",
      "metadata": {
        "id": "OqmCp99dcQbG"
      },
      "source": [
        "Creating a dataframe to store the predicted values "
      ]
    },
    {
      "cell_type": "code",
      "execution_count": null,
      "metadata": {
        "id": "ATHjaXsO8JUQ"
      },
      "outputs": [],
      "source": [
        "# Create a DataFrame to store the accuracy scores\n",
        "df_scores = pd.DataFrame({'Model': ['Linear Regression', 'Ridge Regression', 'Random Forest'],\n",
        "                          'R2':[0.29913302194353664, 0.12978522204812015, 0.29911531692534155],\n",
        "                         \"MAE\":[ 4131.940411928735, 4609.713614692813, 4609.713614692813],\n",
        "                         \"MSE\":[129360777.82491863,160617726.43756232, 129364045.68457934],\n",
        "                   })"
      ]
    },
    {
      "cell_type": "code",
      "execution_count": null,
      "metadata": {
        "colab": {
          "base_uri": "https://localhost:8080/",
          "height": 143
        },
        "id": "bHIGlzc38JZD",
        "outputId": "c6abcb2f-2160-4fbb-e12c-4086ff66414f"
      },
      "outputs": [
        {
          "data": {
            "text/html": [
              "\n",
              "  <div id=\"df-6163a5a2-e24b-4c0f-8bfc-8dec43aecb29\">\n",
              "    <div class=\"colab-df-container\">\n",
              "      <div>\n",
              "<style scoped>\n",
              "    .dataframe tbody tr th:only-of-type {\n",
              "        vertical-align: middle;\n",
              "    }\n",
              "\n",
              "    .dataframe tbody tr th {\n",
              "        vertical-align: top;\n",
              "    }\n",
              "\n",
              "    .dataframe thead th {\n",
              "        text-align: right;\n",
              "    }\n",
              "</style>\n",
              "<table border=\"1\" class=\"dataframe\">\n",
              "  <thead>\n",
              "    <tr style=\"text-align: right;\">\n",
              "      <th></th>\n",
              "      <th>Model</th>\n",
              "      <th>R2</th>\n",
              "      <th>MAE</th>\n",
              "      <th>MSE</th>\n",
              "    </tr>\n",
              "  </thead>\n",
              "  <tbody>\n",
              "    <tr>\n",
              "      <th>0</th>\n",
              "      <td>Linear Regression</td>\n",
              "      <td>0.299133</td>\n",
              "      <td>4131.940412</td>\n",
              "      <td>1.293608e+08</td>\n",
              "    </tr>\n",
              "    <tr>\n",
              "      <th>1</th>\n",
              "      <td>Ridge Regression</td>\n",
              "      <td>0.129785</td>\n",
              "      <td>4609.713615</td>\n",
              "      <td>1.606177e+08</td>\n",
              "    </tr>\n",
              "    <tr>\n",
              "      <th>2</th>\n",
              "      <td>Random Forest</td>\n",
              "      <td>0.299115</td>\n",
              "      <td>4609.713615</td>\n",
              "      <td>1.293640e+08</td>\n",
              "    </tr>\n",
              "  </tbody>\n",
              "</table>\n",
              "</div>\n",
              "      <button class=\"colab-df-convert\" onclick=\"convertToInteractive('df-6163a5a2-e24b-4c0f-8bfc-8dec43aecb29')\"\n",
              "              title=\"Convert this dataframe to an interactive table.\"\n",
              "              style=\"display:none;\">\n",
              "        \n",
              "  <svg xmlns=\"http://www.w3.org/2000/svg\" height=\"24px\"viewBox=\"0 0 24 24\"\n",
              "       width=\"24px\">\n",
              "    <path d=\"M0 0h24v24H0V0z\" fill=\"none\"/>\n",
              "    <path d=\"M18.56 5.44l.94 2.06.94-2.06 2.06-.94-2.06-.94-.94-2.06-.94 2.06-2.06.94zm-11 1L8.5 8.5l.94-2.06 2.06-.94-2.06-.94L8.5 2.5l-.94 2.06-2.06.94zm10 10l.94 2.06.94-2.06 2.06-.94-2.06-.94-.94-2.06-.94 2.06-2.06.94z\"/><path d=\"M17.41 7.96l-1.37-1.37c-.4-.4-.92-.59-1.43-.59-.52 0-1.04.2-1.43.59L10.3 9.45l-7.72 7.72c-.78.78-.78 2.05 0 2.83L4 21.41c.39.39.9.59 1.41.59.51 0 1.02-.2 1.41-.59l7.78-7.78 2.81-2.81c.8-.78.8-2.07 0-2.86zM5.41 20L4 18.59l7.72-7.72 1.47 1.35L5.41 20z\"/>\n",
              "  </svg>\n",
              "      </button>\n",
              "      \n",
              "  <style>\n",
              "    .colab-df-container {\n",
              "      display:flex;\n",
              "      flex-wrap:wrap;\n",
              "      gap: 12px;\n",
              "    }\n",
              "\n",
              "    .colab-df-convert {\n",
              "      background-color: #E8F0FE;\n",
              "      border: none;\n",
              "      border-radius: 50%;\n",
              "      cursor: pointer;\n",
              "      display: none;\n",
              "      fill: #1967D2;\n",
              "      height: 32px;\n",
              "      padding: 0 0 0 0;\n",
              "      width: 32px;\n",
              "    }\n",
              "\n",
              "    .colab-df-convert:hover {\n",
              "      background-color: #E2EBFA;\n",
              "      box-shadow: 0px 1px 2px rgba(60, 64, 67, 0.3), 0px 1px 3px 1px rgba(60, 64, 67, 0.15);\n",
              "      fill: #174EA6;\n",
              "    }\n",
              "\n",
              "    [theme=dark] .colab-df-convert {\n",
              "      background-color: #3B4455;\n",
              "      fill: #D2E3FC;\n",
              "    }\n",
              "\n",
              "    [theme=dark] .colab-df-convert:hover {\n",
              "      background-color: #434B5C;\n",
              "      box-shadow: 0px 1px 3px 1px rgba(0, 0, 0, 0.15);\n",
              "      filter: drop-shadow(0px 1px 2px rgba(0, 0, 0, 0.3));\n",
              "      fill: #FFFFFF;\n",
              "    }\n",
              "  </style>\n",
              "\n",
              "      <script>\n",
              "        const buttonEl =\n",
              "          document.querySelector('#df-6163a5a2-e24b-4c0f-8bfc-8dec43aecb29 button.colab-df-convert');\n",
              "        buttonEl.style.display =\n",
              "          google.colab.kernel.accessAllowed ? 'block' : 'none';\n",
              "\n",
              "        async function convertToInteractive(key) {\n",
              "          const element = document.querySelector('#df-6163a5a2-e24b-4c0f-8bfc-8dec43aecb29');\n",
              "          const dataTable =\n",
              "            await google.colab.kernel.invokeFunction('convertToInteractive',\n",
              "                                                     [key], {});\n",
              "          if (!dataTable) return;\n",
              "\n",
              "          const docLinkHtml = 'Like what you see? Visit the ' +\n",
              "            '<a target=\"_blank\" href=https://colab.research.google.com/notebooks/data_table.ipynb>data table notebook</a>'\n",
              "            + ' to learn more about interactive tables.';\n",
              "          element.innerHTML = '';\n",
              "          dataTable['output_type'] = 'display_data';\n",
              "          await google.colab.output.renderOutput(dataTable, element);\n",
              "          const docLink = document.createElement('div');\n",
              "          docLink.innerHTML = docLinkHtml;\n",
              "          element.appendChild(docLink);\n",
              "        }\n",
              "      </script>\n",
              "    </div>\n",
              "  </div>\n",
              "  "
            ],
            "text/plain": [
              "               Model        R2          MAE           MSE\n",
              "0  Linear Regression  0.299133  4131.940412  1.293608e+08\n",
              "1   Ridge Regression  0.129785  4609.713615  1.606177e+08\n",
              "2      Random Forest  0.299115  4609.713615  1.293640e+08"
            ]
          },
          "execution_count": 32,
          "metadata": {},
          "output_type": "execute_result"
        }
      ],
      "source": [
        "df_scores"
      ]
    },
    {
      "cell_type": "markdown",
      "metadata": {
        "id": "l8Wlx2Me8Jch"
      },
      "source": [
        "##Deep Learning Model \n",
        ">creating a simple ANN MODEL to predict the output "
      ]
    },
    {
      "cell_type": "code",
      "execution_count": null,
      "metadata": {
        "colab": {
          "base_uri": "https://localhost:8080/"
        },
        "id": "4_NqwROi777o",
        "outputId": "bd35fe8f-bf53-40b6-a8de-45ab534401c0"
      },
      "outputs": [
        {
          "name": "stderr",
          "output_type": "stream",
          "text": [
            "WARNING:absl:`lr` is deprecated in Keras optimizer, please use `learning_rate` or use the legacy optimizer, e.g.,tf.keras.optimizers.legacy.Adam.\n"
          ]
        },
        {
          "name": "stdout",
          "output_type": "stream",
          "text": [
            "Epoch 1/15\n",
            "13479/13479 [==============================] - 49s 3ms/step - loss: 5013.3799 - mae: 5013.3799\n",
            "Epoch 2/15\n",
            "13479/13479 [==============================] - 43s 3ms/step - loss: 3504.3315 - mae: 3504.3315\n",
            "Epoch 3/15\n",
            "13479/13479 [==============================] - 43s 3ms/step - loss: 3426.8398 - mae: 3426.8398\n",
            "Epoch 4/15\n",
            "13479/13479 [==============================] - 42s 3ms/step - loss: 3403.4585 - mae: 3403.4585\n",
            "Epoch 5/15\n",
            "13479/13479 [==============================] - 43s 3ms/step - loss: 3389.6147 - mae: 3389.6147\n",
            "Epoch 6/15\n",
            "13479/13479 [==============================] - 43s 3ms/step - loss: 3378.7896 - mae: 3378.7896\n",
            "Epoch 7/15\n",
            "13479/13479 [==============================] - 43s 3ms/step - loss: 3371.5522 - mae: 3371.5522\n",
            "Epoch 8/15\n",
            "13479/13479 [==============================] - 43s 3ms/step - loss: 3364.2078 - mae: 3364.2078\n",
            "Epoch 9/15\n",
            "13479/13479 [==============================] - 43s 3ms/step - loss: 3358.4048 - mae: 3358.4048\n",
            "Epoch 10/15\n",
            "13479/13479 [==============================] - 43s 3ms/step - loss: 3352.6248 - mae: 3352.6248\n",
            "Epoch 11/15\n",
            "13479/13479 [==============================] - 44s 3ms/step - loss: 3348.0940 - mae: 3348.0940\n",
            "Epoch 12/15\n",
            "13479/13479 [==============================] - 43s 3ms/step - loss: 3342.8337 - mae: 3342.8337\n",
            "Epoch 13/15\n",
            "13479/13479 [==============================] - 44s 3ms/step - loss: 3339.8687 - mae: 3339.8687\n",
            "Epoch 14/15\n",
            "13479/13479 [==============================] - 43s 3ms/step - loss: 3334.8804 - mae: 3334.8804\n",
            "Epoch 15/15\n",
            "13479/13479 [==============================] - 44s 3ms/step - loss: 3332.3337 - mae: 3332.3337\n"
          ]
        }
      ],
      "source": [
        "import tensorflow as tf\n",
        "from tensorflow.keras import Sequential\n",
        "from tensorflow.keras.layers import Dense\n",
        "tf.random.set_seed(42)\n",
        "\n",
        "insurance_model_3 = tf.keras.Sequential([\n",
        "    tf.keras.layers.Dense(100,activation=\"relu\"),\n",
        "    tf.keras.layers.Dense(10,activation=\"relu\"),\n",
        "    tf.keras.layers.Dense(1)\n",
        "])\n",
        "\n",
        "insurance_model_3.compile(loss = tf.keras.losses.MAE,optimizer=tf.keras.optimizers.Adam(lr=0.1),metrics=['mae'])\n",
        "\n",
        "history = insurance_model_3.fit(X_train_scaled,y_train,epochs=15)"
      ]
    },
    {
      "cell_type": "markdown",
      "metadata": {
        "id": "dVZEs-cmb39V"
      },
      "source": [
        "Evaluate the prediction on the test data"
      ]
    },
    {
      "cell_type": "code",
      "execution_count": null,
      "metadata": {
        "colab": {
          "base_uri": "https://localhost:8080/"
        },
        "id": "RTU1gUsWGJ0G",
        "outputId": "54aa8abb-8ee5-41e1-ba8a-70e5837873a0"
      },
      "outputs": [
        {
          "name": "stdout",
          "output_type": "stream",
          "text": [
            "3370/3370 [==============================] - 9s 3ms/step - loss: 3328.9033 - mae: 3328.9033\n"
          ]
        }
      ],
      "source": [
        "# Evaulate 3rd model\n",
        "model_loss, model_mae = insurance_model_3.evaluate(X_test_scaled, y_test)"
      ]
    },
    {
      "cell_type": "code",
      "execution_count": 75,
      "metadata": {
        "id": "q5bhHTIOUV0R"
      },
      "outputs": [
        {
          "data": {
            "text/html": [
              "<style>#sk-container-id-2 {color: black;background-color: white;}#sk-container-id-2 pre{padding: 0;}#sk-container-id-2 div.sk-toggleable {background-color: white;}#sk-container-id-2 label.sk-toggleable__label {cursor: pointer;display: block;width: 100%;margin-bottom: 0;padding: 0.3em;box-sizing: border-box;text-align: center;}#sk-container-id-2 label.sk-toggleable__label-arrow:before {content: \"▸\";float: left;margin-right: 0.25em;color: #696969;}#sk-container-id-2 label.sk-toggleable__label-arrow:hover:before {color: black;}#sk-container-id-2 div.sk-estimator:hover label.sk-toggleable__label-arrow:before {color: black;}#sk-container-id-2 div.sk-toggleable__content {max-height: 0;max-width: 0;overflow: hidden;text-align: left;background-color: #f0f8ff;}#sk-container-id-2 div.sk-toggleable__content pre {margin: 0.2em;color: black;border-radius: 0.25em;background-color: #f0f8ff;}#sk-container-id-2 input.sk-toggleable__control:checked~div.sk-toggleable__content {max-height: 200px;max-width: 100%;overflow: auto;}#sk-container-id-2 input.sk-toggleable__control:checked~label.sk-toggleable__label-arrow:before {content: \"▾\";}#sk-container-id-2 div.sk-estimator input.sk-toggleable__control:checked~label.sk-toggleable__label {background-color: #d4ebff;}#sk-container-id-2 div.sk-label input.sk-toggleable__control:checked~label.sk-toggleable__label {background-color: #d4ebff;}#sk-container-id-2 input.sk-hidden--visually {border: 0;clip: rect(1px 1px 1px 1px);clip: rect(1px, 1px, 1px, 1px);height: 1px;margin: -1px;overflow: hidden;padding: 0;position: absolute;width: 1px;}#sk-container-id-2 div.sk-estimator {font-family: monospace;background-color: #f0f8ff;border: 1px dotted black;border-radius: 0.25em;box-sizing: border-box;margin-bottom: 0.5em;}#sk-container-id-2 div.sk-estimator:hover {background-color: #d4ebff;}#sk-container-id-2 div.sk-parallel-item::after {content: \"\";width: 100%;border-bottom: 1px solid gray;flex-grow: 1;}#sk-container-id-2 div.sk-label:hover label.sk-toggleable__label {background-color: #d4ebff;}#sk-container-id-2 div.sk-serial::before {content: \"\";position: absolute;border-left: 1px solid gray;box-sizing: border-box;top: 0;bottom: 0;left: 50%;z-index: 0;}#sk-container-id-2 div.sk-serial {display: flex;flex-direction: column;align-items: center;background-color: white;padding-right: 0.2em;padding-left: 0.2em;position: relative;}#sk-container-id-2 div.sk-item {position: relative;z-index: 1;}#sk-container-id-2 div.sk-parallel {display: flex;align-items: stretch;justify-content: center;background-color: white;position: relative;}#sk-container-id-2 div.sk-item::before, #sk-container-id-2 div.sk-parallel-item::before {content: \"\";position: absolute;border-left: 1px solid gray;box-sizing: border-box;top: 0;bottom: 0;left: 50%;z-index: -1;}#sk-container-id-2 div.sk-parallel-item {display: flex;flex-direction: column;z-index: 1;position: relative;background-color: white;}#sk-container-id-2 div.sk-parallel-item:first-child::after {align-self: flex-end;width: 50%;}#sk-container-id-2 div.sk-parallel-item:last-child::after {align-self: flex-start;width: 50%;}#sk-container-id-2 div.sk-parallel-item:only-child::after {width: 0;}#sk-container-id-2 div.sk-dashed-wrapped {border: 1px dashed gray;margin: 0 0.4em 0.5em 0.4em;box-sizing: border-box;padding-bottom: 0.4em;background-color: white;}#sk-container-id-2 div.sk-label label {font-family: monospace;font-weight: bold;display: inline-block;line-height: 1.2em;}#sk-container-id-2 div.sk-label-container {text-align: center;}#sk-container-id-2 div.sk-container {/* jupyter's `normalize.less` sets `[hidden] { display: none; }` but bootstrap.min.css set `[hidden] { display: none !important; }` so we also need the `!important` here to be able to override the default hidden behavior on the sphinx rendered scikit-learn.org. See: https://github.com/scikit-learn/scikit-learn/issues/21755 */display: inline-block !important;position: relative;}#sk-container-id-2 div.sk-text-repr-fallback {display: none;}</style><div id=\"sk-container-id-2\" class=\"sk-top-container\"><div class=\"sk-text-repr-fallback\"><pre>Pipeline(steps=[(&#x27;preprocessor&#x27;,\n",
              "                 ColumnTransformer(transformers=[(&#x27;num&#x27;, StandardScaler(),\n",
              "                                                  [1, 3])])),\n",
              "                (&#x27;model&#x27;, LinearRegression())])</pre><b>In a Jupyter environment, please rerun this cell to show the HTML representation or trust the notebook. <br />On GitHub, the HTML representation is unable to render, please try loading this page with nbviewer.org.</b></div><div class=\"sk-container\" hidden><div class=\"sk-item sk-dashed-wrapped\"><div class=\"sk-label-container\"><div class=\"sk-label sk-toggleable\"><input class=\"sk-toggleable__control sk-hidden--visually\" id=\"sk-estimator-id-6\" type=\"checkbox\" ><label for=\"sk-estimator-id-6\" class=\"sk-toggleable__label sk-toggleable__label-arrow\">Pipeline</label><div class=\"sk-toggleable__content\"><pre>Pipeline(steps=[(&#x27;preprocessor&#x27;,\n",
              "                 ColumnTransformer(transformers=[(&#x27;num&#x27;, StandardScaler(),\n",
              "                                                  [1, 3])])),\n",
              "                (&#x27;model&#x27;, LinearRegression())])</pre></div></div></div><div class=\"sk-serial\"><div class=\"sk-item sk-dashed-wrapped\"><div class=\"sk-label-container\"><div class=\"sk-label sk-toggleable\"><input class=\"sk-toggleable__control sk-hidden--visually\" id=\"sk-estimator-id-7\" type=\"checkbox\" ><label for=\"sk-estimator-id-7\" class=\"sk-toggleable__label sk-toggleable__label-arrow\">preprocessor: ColumnTransformer</label><div class=\"sk-toggleable__content\"><pre>ColumnTransformer(transformers=[(&#x27;num&#x27;, StandardScaler(), [1, 3])])</pre></div></div></div><div class=\"sk-parallel\"><div class=\"sk-parallel-item\"><div class=\"sk-item\"><div class=\"sk-label-container\"><div class=\"sk-label sk-toggleable\"><input class=\"sk-toggleable__control sk-hidden--visually\" id=\"sk-estimator-id-8\" type=\"checkbox\" ><label for=\"sk-estimator-id-8\" class=\"sk-toggleable__label sk-toggleable__label-arrow\">num</label><div class=\"sk-toggleable__content\"><pre>[1, 3]</pre></div></div></div><div class=\"sk-serial\"><div class=\"sk-item\"><div class=\"sk-estimator sk-toggleable\"><input class=\"sk-toggleable__control sk-hidden--visually\" id=\"sk-estimator-id-9\" type=\"checkbox\" ><label for=\"sk-estimator-id-9\" class=\"sk-toggleable__label sk-toggleable__label-arrow\">StandardScaler</label><div class=\"sk-toggleable__content\"><pre>StandardScaler()</pre></div></div></div></div></div></div></div></div><div class=\"sk-item\"><div class=\"sk-estimator sk-toggleable\"><input class=\"sk-toggleable__control sk-hidden--visually\" id=\"sk-estimator-id-10\" type=\"checkbox\" ><label for=\"sk-estimator-id-10\" class=\"sk-toggleable__label sk-toggleable__label-arrow\">LinearRegression</label><div class=\"sk-toggleable__content\"><pre>LinearRegression()</pre></div></div></div></div></div></div></div>"
            ],
            "text/plain": [
              "Pipeline(steps=[('preprocessor',\n",
              "                 ColumnTransformer(transformers=[('num', StandardScaler(),\n",
              "                                                  [1, 3])])),\n",
              "                ('model', LinearRegression())])"
            ]
          },
          "execution_count": 75,
          "metadata": {},
          "output_type": "execute_result"
        }
      ],
      "source": [
        "import pandas as pd\n",
        "import joblib\n",
        "\n",
        "from sklearn.pipeline import Pipeline\n",
        "from sklearn.compose import ColumnTransformer\n",
        "from sklearn.preprocessing import StandardScaler, OneHotEncoder\n",
        "\n",
        "# Define the column transformer\n",
        "preprocessor = ColumnTransformer(\n",
        "    transformers=[\n",
        "        ('num', StandardScaler(), [1,3]),\n",
        "        # ('cat', OneHotEncoder(), ['Model'])\n",
        "    ])\n",
        "\n",
        "# Create the pipeline\n",
        "pipeline = Pipeline(steps=[('preprocessor', preprocessor), ('model', lr_model)])\n",
        "\n",
        "# Split the data into features and target\n",
        "X = merged_df.drop(columns=['Price'], axis=1)\n",
        "y = merged_df['Price']\n",
        "\n",
        "# Fit the pipeline\n",
        "pipeline.fit(X, y)\n",
        "\n",
        "# Make a prediction\n",
        "# new_data = pd.DataFrame({'Price':[20500],'Year':[2013],'Mileage':[8726]})\n",
        "# prediction = pipeline.predict(new_data)\n",
        "\n",
        "# print(prediction)\n"
      ]
    },
    {
      "cell_type": "code",
      "execution_count": null,
      "metadata": {},
      "outputs": [],
      "source": []
    },
    {
      "cell_type": "code",
      "execution_count": 32,
      "metadata": {},
      "outputs": [],
      "source": [
        "columns = list[merged_df.columns]"
      ]
    },
    {
      "cell_type": "code",
      "execution_count": 33,
      "metadata": {},
      "outputs": [
        {
          "data": {
            "text/plain": [
              "list[Index(['Price', 'Year', 'Mileage', 'Model_1', 'Model_15002WD', 'Model_15004WD',\n",
              "       'Model_1500Big', 'Model_1500Laramie', 'Model_1500Lone', 'Model_1500SLT',\n",
              "       ...\n",
              "       'Model_Yaris5-Door', 'Model_Yukon', 'Model_Yukon2WD', 'Model_Yukon4WD',\n",
              "       'Model_YukonAWD', 'Model_i3Hatchback', 'Model_tC2dr',\n",
              "       'Model_tCAutomatic', 'Model_unknown', 'Model_xB5dr'],\n",
              "      dtype='object', length=547)]"
            ]
          },
          "execution_count": 33,
          "metadata": {},
          "output_type": "execute_result"
        }
      ],
      "source": [
        "columns"
      ]
    },
    {
      "cell_type": "code",
      "execution_count": null,
      "metadata": {},
      "outputs": [],
      "source": []
    }
  ],
  "metadata": {
    "accelerator": "GPU",
    "colab": {
      "provenance": []
    },
    "gpuClass": "standard",
    "kernelspec": {
      "display_name": "Python 3",
      "name": "python3"
    },
    "language_info": {
      "codemirror_mode": {
        "name": "ipython",
        "version": 3
      },
      "file_extension": ".py",
      "mimetype": "text/x-python",
      "name": "python",
      "nbconvert_exporter": "python",
      "pygments_lexer": "ipython3",
      "version": "3.10.2"
    }
  },
  "nbformat": 4,
  "nbformat_minor": 0
}
